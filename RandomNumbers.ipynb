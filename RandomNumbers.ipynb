{
 "cells": [
  {
   "cell_type": "code",
   "execution_count": null,
   "metadata": {},
   "outputs": [],
   "source": [
    "# Importing sklearn and random libraries\n",
    "from sklearn.linear_model import LinearRegression\n",
    "import random "
   ]
  },
  {
   "cell_type": "code",
   "execution_count": null,
   "metadata": {},
   "outputs": [],
   "source": [
    "# Creating an empty list for the feature data set 'X' and the target data set 'y'\n",
    "feature_set = []\n",
    "target_set= []"
   ]
  },
  {
   "cell_type": "code",
   "execution_count": null,
   "metadata": {},
   "outputs": [],
   "source": [
    "# Number of rows wanted for the data set\n",
    "number_of_rows = 200\n",
    "# limiting the possible values in the data set\n",
    "random_number_limit = 2000"
   ]
  },
  {
   "cell_type": "code",
   "execution_count": null,
   "metadata": {},
   "outputs": [],
   "source": [
    "#Creating the training data set\n",
    "#Creating and appending a randomly generated data set to the input and output\n",
    "for i in range(0,number_of_rows):\n",
    "  x = random.randint(0, random_number_limit)  \n",
    "  y = random.randint(0, random_number_limit)\n",
    "  z = random.randint(0, random_number_limit)"
   ]
  },
  {
   "cell_type": "code",
   "execution_count": null,
   "metadata": {},
   "outputs": [],
   "source": [
    "#Creating a linear function for the target data set 'y'\n",
    "function = (10*x) + (2*y) + (3*z)\n",
    "feature_set.append([x,y,z]) # This stores the values of x, y and z \n",
    "target_set.append(function) # This stores the value of the function"
   ]
  },
  {
   "cell_type": "code",
   "execution_count": null,
   "metadata": {},
   "outputs": [],
   "source": [
    "model = LinearRegression() #Create a linear regression object/model\n",
    "model.fit(feature_set, target_set) # Training\n",
    "test_set = [[8,10,0]] #Test case\n",
    "prediction = model.predict(test_set)\n",
    "print('Prediction:'+str(prediction)+'\\t'+ 'Coefficient:'+str(model.coef_))"
   ]
  }
 ],
 "metadata": {
  "kernelspec": {
   "display_name": "Python 3",
   "language": "python",
   "name": "python3"
  },
  "language_info": {
   "codemirror_mode": {
    "name": "ipython",
    "version": 3
   },
   "file_extension": ".py",
   "mimetype": "text/x-python",
   "name": "python",
   "nbconvert_exporter": "python",
   "pygments_lexer": "ipython3",
   "version": "3.7.4"
  }
 },
 "nbformat": 4,
 "nbformat_minor": 2
}
